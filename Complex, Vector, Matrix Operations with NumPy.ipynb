{
 "cells": [
  {
   "cell_type": "markdown",
   "metadata": {},
   "source": [
    "# Exercises on Complex Vectors and Matrices with Concrete Cases\n",
    "\n",
    "This set of exercises focuses on operations with complex column vectors and complex square matrices, including concrete cases with vectors and matrices written in LaTeX format.\n",
    "\n",
    "## Complex Column Vector Operations\n",
    "\n",
    "### Exercise 1: Sum of Two Complex Vectors\n",
    "Given two complex vectors \n",
    "$ v1 = \\begin{bmatrix} 1 + 2i \\\\ 3 - i \\end{bmatrix} $ \n",
    "and \n",
    "$ v2 = \\begin{bmatrix} 2 - i \\\\ 4 + 2i \\end{bmatrix} $, \n",
    "find their sum."
   ]
  },
  {
   "cell_type": "code",
   "execution_count": 6,
   "metadata": {},
   "outputs": [
    {
     "name": "stdout",
     "output_type": "stream",
     "text": [
      "The result of adding  [[1.+2.j]\n",
      " [3.-1.j]]  +  [[2.-1.j]\n",
      " [4.+2.j]]  is:\n"
     ]
    }
   ],
   "source": [
    "import numpy as np\n",
    "\n",
    "# Define two complex column vectors\n",
    "v1 = np.array([[1+2j], [3-1j]])\n",
    "v2 = np.array([[2-1j], [4+2j]])\n",
    "\n",
    "print(\"The result of adding \", v1, \" + \", v2, \" is:\")\n",
    "sum_v = v1 + v2\n"
   ]
  },
  {
   "cell_type": "markdown",
   "metadata": {},
   "source": [
    "### Exercise 2: Negation of a Complex Vector\n",
    "Given a complex vector \n",
    "$ v = \\begin{bmatrix} 2 + 3i \\\\ 1 - 2i \\end{bmatrix} $, \n",
    "find its negation."
   ]
  },
  {
   "cell_type": "code",
   "execution_count": 5,
   "metadata": {},
   "outputs": [
    {
     "name": "stdout",
     "output_type": "stream",
     "text": [
      "The result of negating  [2.+3.j 1.-2.j]  is:\n",
      "[-2.-3.j -1.+2.j]\n"
     ]
    }
   ],
   "source": [
    "v = np.array([2+3j , 1-2j])\n",
    "print(\"The result of negating \", v, \" is:\")\n",
    "print(-v)\n"
   ]
  },
  {
   "cell_type": "markdown",
   "metadata": {},
   "source": [
    "### Exercise 3: Multiplication of a Complex Vector by a Scalar\n",
    "Multiply the complex vector \n",
    "$ v = \\begin{bmatrix} 1 - i \\\\ 2 + 2i \\end{bmatrix} $ \n",
    "by the complex scalar $$ 3 + i $$."
   ]
  },
  {
   "cell_type": "code",
   "execution_count": 7,
   "metadata": {},
   "outputs": [
    {
     "name": "stdout",
     "output_type": "stream",
     "text": [
      "The result of the scalar multiplication of  [1.-1.j 2.+2.j]  *  (3+1j)  is:\n",
      "[4.-2.j 4.+8.j]\n"
     ]
    }
   ],
   "source": [
    "v = np.array([1-1j , 2+2j])\n",
    "c = 3+1j\n",
    "print(\"The result of the scalar multiplication of \", v, \" * \", c, \" is:\")\n",
    "print(v * c)\n"
   ]
  },
  {
   "cell_type": "markdown",
   "metadata": {},
   "source": [
    "### Exercise 4: Transpose of a Complex Vector\n",
    "Find the transpose of the complex vector \n",
    "$ v = \\begin{bmatrix} 2 - i \\\\ 3 + 4i \\end{bmatrix} $."
   ]
  },
  {
   "cell_type": "code",
   "execution_count": 10,
   "metadata": {},
   "outputs": [
    {
     "name": "stdout",
     "output_type": "stream",
     "text": [
      "The result of the transpose of  [2.-1.j 3.+4.j]  is:\n",
      "[2.-1.j 3.+4.j]\n",
      "Representation\n",
      "| (2-1j)  (3+4j) |\n"
     ]
    }
   ],
   "source": [
    "v = np.array([2-1j, 3+4j])\n",
    "print(\"The result of the transpose of \", v, \" is:\")\n",
    "print(v.T) \n",
    "print(\"Representation\")\n",
    "print(\"|\", v.T[0], \"\", v.T[1], \"|\")\n"
   ]
  },
  {
   "cell_type": "markdown",
   "metadata": {},
   "source": [
    "### Exercise 5: Conjugate of a Complex Vector\n",
    "Compute the conjugate of the complex vector \n",
    "$ v = \\begin{bmatrix} 1 + i \\\\ 2 - 3i \\end{bmatrix} $."
   ]
  },
  {
   "cell_type": "code",
   "execution_count": 9,
   "metadata": {},
   "outputs": [
    {
     "name": "stdout",
     "output_type": "stream",
     "text": [
      "The result of the conjugate of  [1.+1.j 2.-3.j]  is:\n",
      "[1.-1.j 2.+3.j]\n"
     ]
    }
   ],
   "source": [
    "v = np.array([1+1j, 2-3j])\n",
    "print(\"The result of the conjugate of \", v, \" is:\")\n",
    "print(np.conjugate(v))\n"
   ]
  },
  {
   "cell_type": "markdown",
   "metadata": {},
   "source": [
    "### Exercise 6: Adjunct (Conjugate Transpose) of a Complex Vector\n",
    "Find the adjunct (or conjugate transpose) of the complex vector \n",
    "$ v = \\begin{bmatrix} 1 - 2i \\\\ 3 + i \\end{bmatrix} $."
   ]
  },
  {
   "cell_type": "code",
   "execution_count": 11,
   "metadata": {},
   "outputs": [
    {
     "name": "stdout",
     "output_type": "stream",
     "text": [
      "The adjunct (or Hermitian transpose) of  [1.-2.j 3.+1.j]  is:\n",
      "[1.+2.j 3.-1.j]\n"
     ]
    }
   ],
   "source": [
    "v = np.array([1 - 2j, 3 + 1j])\n",
    "print(\"The adjunct (or Hermitian transpose) of \", v, \" is:\")\n",
    "print(np.conjugate(v.T))\n"
   ]
  },
  {
   "cell_type": "markdown",
   "metadata": {},
   "source": [
    "## Complex Square Matrix Operations\n",
    "\n",
    "### Exercise 7: Sum of Two Complex Matrices\n",
    "Given two complex matrices \n",
    "$ m1 = \\begin{bmatrix} 1 + i & 2 - i \\\\ 3 + 2i & 4 \\end{bmatrix} $\n",
    "and \n",
    "$ m2 = \\begin{bmatrix} 2 - 3i & 1 \\\\ i & 2 + 2i \\end{bmatrix} $, \n",
    "calculate their sum."
   ]
  },
  {
   "cell_type": "code",
   "execution_count": 13,
   "metadata": {},
   "outputs": [
    {
     "name": "stdout",
     "output_type": "stream",
     "text": [
      "The result of the addition of  [[1.+1.j 2.-1.j]\n",
      " [3.+2.j 4.+0.j]]  +  [[2.-3.j 1.+0.j]\n",
      " [0.+1.j 2.+2.j]]  is:\n",
      "[[3.-2.j 3.-1.j]\n",
      " [3.+3.j 6.+2.j]]\n"
     ]
    }
   ],
   "source": [
    "m1 = np.array([[1 + 1j, 2 - 1j], [3 + 2j, 4]])\n",
    "m2 = np.array([[2 - 3j, 1], [1j, 2 + 2j]])\n",
    "print(\"The result of the addition of \",m1,\" + \",m2,\" is:\")\n",
    "print(m1 + m2)\n"
   ]
  },
  {
   "cell_type": "markdown",
   "metadata": {},
   "source": [
    "### Exercise 8: Negation of a Complex Matrix\n",
    "Find the negation of the complex matrix \n",
    "$ m = \\begin{bmatrix} 2 + i & 3 \\\\ 1 - i & 2 + 2i \\end{bmatrix} $."
   ]
  },
  {
   "cell_type": "code",
   "execution_count": 14,
   "metadata": {},
   "outputs": [
    {
     "name": "stdout",
     "output_type": "stream",
     "text": [
      "The result of the addition of  [[1.+1.j 2.-1.j]\n",
      " [3.+2.j 4.+0.j]]  +  [[2.-3.j 1.+0.j]\n",
      " [0.+1.j 2.+2.j]]  is:\n",
      "[[3.-2.j 3.-1.j]\n",
      " [3.+3.j 6.+2.j]]\n"
     ]
    }
   ],
   "source": [
    "m1 = np.array([[1 + 1j, 2 - 1j], [3 + 2j, 4]])\n",
    "m2 = np.array([[2 - 3j, 1], [1j, 2 + 2j]])\n",
    "print(\"The result of the addition of \", m1, \" + \", m2, \" is:\")\n",
    "print(m1 + m2)\n"
   ]
  },
  {
   "cell_type": "markdown",
   "metadata": {},
   "source": [
    "### Exercise 9: Multiplication of a Complex Matrix by a Scalar\n",
    "Multiply the complex matrix \n",
    "$ m = \\begin{bmatrix} 1 - i & 2 \\\\ 3 + i & 4 - 2i \\end{bmatrix} $ \n",
    "by the complex scalar $$ 2 + 3i $$."
   ]
  },
  {
   "cell_type": "code",
   "execution_count": 15,
   "metadata": {},
   "outputs": [
    {
     "name": "stdout",
     "output_type": "stream",
     "text": [
      "The result of the scalar multiplication of  [[1.-1.j 2.+0.j]\n",
      " [3.+1.j 4.-2.j]]  *  (3+1j)  is:\n",
      "[[ 4.-2.j  6.+2.j]\n",
      " [ 8.+6.j 14.-2.j]]\n"
     ]
    }
   ],
   "source": [
    "m = np.array([[1-1j, 2], [3+1j, 4-2j]])\n",
    "c = 3+1j\n",
    "print(\"The result of the scalar multiplication of \", m, \" * \", c, \" is:\")\n",
    "print(m * c)\n"
   ]
  },
  {
   "cell_type": "markdown",
   "metadata": {},
   "source": [
    "### Exercise 10: Conjugate of a Complex Matrix\n",
    "Compute the conjugate of the complex matrix \n",
    "$ m = \\begin{bmatrix} 1 + i & 2 \\\\ 3 - i & 4 + 2i \\end{bmatrix} $."
   ]
  },
  {
   "cell_type": "code",
   "execution_count": 16,
   "metadata": {},
   "outputs": [
    {
     "name": "stdout",
     "output_type": "stream",
     "text": [
      "The result of the conjugate of  [[1.+1.j 2.+0.j]\n",
      " [3.-1.j 4.+2.j]]  is:\n",
      "[[1.-1.j 2.-0.j]\n",
      " [3.+1.j 4.-2.j]]\n"
     ]
    }
   ],
   "source": [
    "m = np.array([[1+1j, 2], [3-1j, 4+2j]])\n",
    "print(\"The result of the conjugate of \", m, \" is:\")\n",
    "print(np.conjugate(m))\n"
   ]
  },
  {
   "cell_type": "markdown",
   "metadata": {},
   "source": [
    "### Exercise 11: Transpose of a Complex Matrix\n",
    "Find the transpose of the complex matrix \n",
    "$ m = \\begin{bmatrix} 1 - i & 2 + 2i \\\\ 3 & 4 - i \\end{bmatrix} $."
   ]
  },
  {
   "cell_type": "code",
   "execution_count": 16,
   "metadata": {},
   "outputs": [
    {
     "name": "stdout",
     "output_type": "stream",
     "text": [
      "la adjunta de  [[1.-1.j 3.+0.j]\n",
      " [2.+2.j 4.-1.j]]  es:\n",
      "[[1.+1.j 2.-2.j]\n",
      " [3.-0.j 4.+1.j]]\n"
     ]
    }
   ],
   "source": [
    "m = np.array([[1 - 1j, 2 + 2j], [3, 4 - 1j]])\n",
    "print(\"The transpose of \", m, \" is:\")\n",
    "print(m.T)\n"
   ]
  },
  {
   "cell_type": "markdown",
   "metadata": {},
   "source": [
    "### Exercise 12: Adjunct (Conjugate Transpose) of a Complex Matrix\n",
    "Calculate the adjunct (or conjugate transpose) of the complex matrix \n",
    "$ m = \\begin{bmatrix} 1 + 2i & 3 - i \\\\ 4 & 5 + i \\end{bmatrix} $."
   ]
  },
  {
   "cell_type": "code",
   "execution_count": 18,
   "metadata": {},
   "outputs": [
    {
     "name": "stdout",
     "output_type": "stream",
     "text": [
      "The adjoint (or Hermitian transpose) of  [[1.+2.j 3.-1.j]\n",
      " [4.+0.j 5.+1.j]]  is:\n",
      "[[1.-2.j 4.-0.j]\n",
      " [3.+1.j 5.-1.j]]\n"
     ]
    }
   ],
   "source": [
    "m = np.array([[1 + 2j, 3-1j], [4, 5 + 1j]])\n",
    "print(\"The adjoint (or Hermitian transpose) of \", m, \" is:\")\n",
    "print(np.conjugate(m.T))\n"
   ]
  },
  {
   "cell_type": "markdown",
   "metadata": {},
   "source": [
    "### Exercise 13: Checking the Dimensions of a Matrix\n",
    "Determine the dimensions of the complex matrix \n",
    "$ m = \\begin{bmatrix} 1 - i & 2 \\\\ 3 + 2i & 4 - i \\end{bmatrix} $."
   ]
  },
  {
   "cell_type": "code",
   "execution_count": 19,
   "metadata": {},
   "outputs": [
    {
     "name": "stdout",
     "output_type": "stream",
     "text": [
      "The dimension of the matrix  [[1.-1.j 2.+0.j]\n",
      " [3.+2.j 4.-1.j]]  is:\n",
      "(2, 2)\n"
     ]
    }
   ],
   "source": [
    "m = np.array([[1-1j, 2], [3+2j, 4-1j]])\n",
    "print(\"The dimension of the matrix \", m, \" is:\")\n",
    "print(m.shape)\n"
   ]
  },
  {
   "cell_type": "markdown",
   "metadata": {},
   "source": [
    "## Multiplication of Matrices and Vectors\n",
    "\n",
    "### Exercise 14: Multiplying a Complex Square Matrix by a Complex Column Vector\n",
    "Multiply the complex square matrix \n",
    "$ m = \\begin{bmatrix} 1 + i & 2 - i \\\\ 3 & 4 + i \\end{bmatrix} $ \n",
    "by the complex column vector \n",
    "$ v = \\begin{bmatrix} 2 - i \\\\ 1 + 3i \\end{bmatrix} $.\n"
   ]
  },
  {
   "cell_type": "code",
   "execution_count": 20,
   "metadata": {},
   "outputs": [
    {
     "name": "stdout",
     "output_type": "stream",
     "text": [
      "The multiplication of m  [[1.+1.j 2.-1.j]\n",
      " [3.+0.j 4.+1.j]]  and v  [2.-1.j 1.+3.j]  is:\n",
      "[8. +6.j 7.+10.j]\n"
     ]
    }
   ],
   "source": [
    "m = np.array([[1+1j, 2-1j], [3, 4+1j]])\n",
    "v = np.array([2-1j, 1+3j])\n",
    "print(\"The multiplication of m \", m, \" and v \", v, \" is:\")\n",
    "print(np.dot(m, v))\n"
   ]
  }
 ],
 "metadata": {
  "kernelspec": {
   "display_name": ".venv",
   "language": "python",
   "name": "python3"
  },
  "language_info": {
   "codemirror_mode": {
    "name": "ipython",
    "version": 3
   },
   "file_extension": ".py",
   "mimetype": "text/x-python",
   "name": "python",
   "nbconvert_exporter": "python",
   "pygments_lexer": "ipython3",
   "version": "3.12.5"
  }
 },
 "nbformat": 4,
 "nbformat_minor": 2
}
